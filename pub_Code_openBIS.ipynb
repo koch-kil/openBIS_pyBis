{
 "cells": [
  {
   "cell_type": "code",
   "execution_count": 5,
   "id": "ccd186f4",
   "metadata": {
    "scrolled": true
   },
   "outputs": [],
   "source": [
    "import os\n",
    "import pandas as pd\n",
    "from configparser import ConfigParser"
   ]
  },
  {
   "cell_type": "markdown",
   "id": "cb4a25e6",
   "metadata": {},
   "source": [
    "# Connect to openBIS"
   ]
  },
  {
   "cell_type": "code",
   "execution_count": 6,
   "id": "7b34cad1",
   "metadata": {},
   "outputs": [],
   "source": [
    "config = ConfigParser()\n",
    "config.read('config.ini')\n",
    "USERNAME = config['credentials']['user']\n",
    "PASSWORD = config['credentials']['pass']"
   ]
  },
  {
   "cell_type": "code",
   "execution_count": 7,
   "id": "61c6a822",
   "metadata": {},
   "outputs": [
    {
     "name": "stdout",
     "output_type": "stream",
     "text": [
      "Session is no longer valid. Please log in again.\n"
     ]
    },
    {
     "data": {
      "text/plain": [
       "'koki_admin-220518172035815xC72CA9ED2892C4A204218B8E145BE52B'"
      ]
     },
     "execution_count": 7,
     "metadata": {},
     "output_type": "execute_result"
    }
   ],
   "source": [
    "from pybis import Openbis\n",
    "o = Openbis('https://openbis-empa-lab502.ethz.ch/openbis/')\n",
    "o.login(username=USERNAME, password=PASSWORD)"
   ]
  },
  {
   "cell_type": "code",
   "execution_count": 67,
   "id": "cb1a7d8a",
   "metadata": {
    "scrolled": false
   },
   "outputs": [
    {
     "name": "stdout",
     "output_type": "stream",
     "text": [
      "Session is no longer valid. Please log in again.\n"
     ]
    },
    {
     "data": {
      "text/plain": [
       "'koki_admin-220518130256309x47D4FEA2CE1B6F07E488AB33FCCE1A63'"
      ]
     },
     "execution_count": 67,
     "metadata": {},
     "output_type": "execute_result"
    }
   ],
   "source": [
    "from pybis import Openbis\n",
    "o = Openbis('LINK_TO_OPENBIS_INSTANCE')\n",
    "o.login(username=USERNAME, password=PASSWORD)"
   ]
  },
  {
   "cell_type": "markdown",
   "id": "aa647f46",
   "metadata": {},
   "source": [
    "# Read Word Files"
   ]
  },
  {
   "cell_type": "code",
   "execution_count": 44,
   "id": "cb860ecd",
   "metadata": {},
   "outputs": [],
   "source": [
    "def read_word_files_from_folder(folderpath): \n",
    "    \"\"\"\n",
    "    read_word_files_from_folder(string) -> dictionary\n",
    "    Read MS Word Files - only works for doc files! - no docx\"\"\"\n",
    "    import win32com.client\n",
    "    word = win32com.client.Dispatch(\"Word.Application\")\n",
    "    word.visible = False\n",
    "    filelist = os.listdir(folderpath)\n",
    "    titles = dict()\n",
    "    for files in filelist:\n",
    "        if files[-1:][0][0] =='~':\n",
    "            next\n",
    "        if files[-4:] =='.doc':\n",
    "            file  = os.path.join(folderpath, files)\n",
    "            wb = word.Documents.Open(file)\n",
    "            doc = word.ActiveDocument\n",
    "            document = doc.Range().Text\n",
    "            titles[files] = extract_title(document, doc)\n",
    "        else: pass\n",
    "    word.ActiveDocument.Close()\n",
    "    return titles"
   ]
  },
  {
   "cell_type": "code",
   "execution_count": 58,
   "id": "e0527c1f",
   "metadata": {},
   "outputs": [],
   "source": [
    "def extract_title(document, doc):\n",
    "    \"\"\"Use this to specifically extract titles from Files which have the structure Titel: inside them\"\"\"\n",
    "    titlef = (str(document).replace('\\r', ' ').find('Titel:'))\n",
    "    stich = (str(document).replace('\\r', ' ').find('Stichworte:'))\n",
    "    f = str(doc.Range().Text).replace('\\r', ' ')\n",
    "    title = (f[(titlef+6):(stich)])\n",
    "    title = ''.join(c for c in title if c.isprintable()).strip()\n",
    "    return (document, title)"
   ]
  },
  {
   "cell_type": "code",
   "execution_count": 48,
   "id": "9e9049dd",
   "metadata": {},
   "outputs": [],
   "source": [
    "def transform_docx_to_pdf(filepath):\n",
    "    from docx2pdf import convert\n",
    "    return convert(filepath)"
   ]
  },
  {
   "cell_type": "markdown",
   "id": "8d93712c",
   "metadata": {},
   "source": [
    "# Supplier interactions"
   ]
  },
  {
   "cell_type": "code",
   "execution_count": null,
   "id": "38c14f49",
   "metadata": {},
   "outputs": [],
   "source": [
    "def get_suppliers():\n",
    "    \"\"\"\"Get a list of suppliers and their codes\"\"\"\n",
    "    suppliers = o.get_collection('/STOCK_CATALOG/SUPPLIERS/SUPPLIER_COLLECTION')\n",
    "    supdict= dict()\n",
    "    for sups in suppliers.get_samples():\n",
    "        ids = o.get_sample(sups.identifier).permId\n",
    "        codes = o.get_sample(sups.identifier).code\n",
    "        names = o.get_sample(sups.identifier).p('$name')\n",
    "        supdict[names] = ids, codes\n",
    "    return suplist"
   ]
  },
  {
   "cell_type": "code",
   "execution_count": null,
   "id": "2b10cfe8",
   "metadata": {},
   "outputs": [],
   "source": [
    "def new_supplier(CODE, NAME, ADDRESS1, ADDRESS2, PHONE, EMAIL, LANG='English', URL=None):\n",
    "    \"\"\"Create a new supplier object on openBIS\"\"\"\n",
    "    sample = o.new_sample(\n",
    "        type       = 'SUPPLIER',\n",
    "        experiment = '/STOCK_CATALOG/SUPPLIERS/SUPPLIER_COLLECTION',\n",
    "        code = CODE,\n",
    "        props      = {\"$name\": NAME * (not(pd.isna(NAME))*1),\n",
    "                     \"$supplier.company_address_line_1\" : ADDRESS1 * (not(pd.isna(ADDRESS1))*1),\n",
    "                     \"$supplier.company_address_line_2\" : ADDRESS2 * (not(pd.isna(ADDRESS2))*1),\n",
    "                     \"$supplier.company_phone\": PHONE * (not(pd.isna(PHONE))*1),\n",
    "                     \"$supplier.company_email\": EMAIL * (not(pd.isna(EMAIL))*1),\n",
    "                     \"$supplier.company_language\": LANG * (not(pd.isna(LANG))*1),\n",
    "                     \"supplier.url\" : URL}\n",
    "    )\n",
    "    sample.save()"
   ]
  },
  {
   "cell_type": "markdown",
   "id": "e551fe6a",
   "metadata": {},
   "source": [
    "# Sample interactions"
   ]
  },
  {
   "cell_type": "code",
   "execution_count": 32,
   "id": "836f78de",
   "metadata": {},
   "outputs": [],
   "source": [
    "def get_samples(TYPE:str):\n",
    "    '''Use to retreive all samples with a specific type'''\n",
    "    samples = o.get_samples(type=TYPE)\n",
    "    return samples\n",
    "\n",
    "def get_sample_type_names():\n",
    "    '''Use to get a list of sample types and their description'''\n",
    "    return [(x.code, x.description) for x in o.get_sample_types()]"
   ]
  },
  {
   "cell_type": "code",
   "execution_count": null,
   "id": "cdb44cf7",
   "metadata": {},
   "outputs": [],
   "source": [
    "def create_new_internal_sample(CODE=None, NAME, ):\n",
    "    "
   ]
  },
  {
   "cell_type": "code",
   "execution_count": 36,
   "id": "95dc003f",
   "metadata": {},
   "outputs": [
    {
     "data": {
      "text/html": [
       "<div>\n",
       "<style scoped>\n",
       "    .dataframe tbody tr th:only-of-type {\n",
       "        vertical-align: middle;\n",
       "    }\n",
       "\n",
       "    .dataframe tbody tr th {\n",
       "        vertical-align: top;\n",
       "    }\n",
       "\n",
       "    .dataframe thead th {\n",
       "        text-align: right;\n",
       "    }\n",
       "</style>\n",
       "<table border=\"1\" class=\"dataframe\">\n",
       "  <thead>\n",
       "    <tr style=\"text-align: right;\">\n",
       "      <th></th>\n",
       "      <th>identifier</th>\n",
       "      <th>permId</th>\n",
       "      <th>type</th>\n",
       "      <th>registrator</th>\n",
       "      <th>registrationDate</th>\n",
       "      <th>modifier</th>\n",
       "      <th>modificationDate</th>\n",
       "    </tr>\n",
       "  </thead>\n",
       "  <tbody>\n",
       "    <tr>\n",
       "      <th>0</th>\n",
       "      <td>/502ICA_PROJECTS/EXAMPLE_PROJECT/SAMPLE_INTERNAL1</td>\n",
       "      <td>20220512144048374-911</td>\n",
       "      <td>SAMPLE_INTERNAL</td>\n",
       "      <td>koki_admin</td>\n",
       "      <td>2022-05-12 14:40:49</td>\n",
       "      <td>koki_admin</td>\n",
       "      <td>2022-05-12 14:46:45</td>\n",
       "    </tr>\n",
       "    <tr>\n",
       "      <th>1</th>\n",
       "      <td>/502ICA_PROJECTS/EXAMPLE_PROJECT/SAMPLE_INTERNAL2</td>\n",
       "      <td>20220512144645331-913</td>\n",
       "      <td>SAMPLE_INTERNAL</td>\n",
       "      <td>koki_admin</td>\n",
       "      <td>2022-05-12 14:46:45</td>\n",
       "      <td>koki_admin</td>\n",
       "      <td>2022-05-12 14:46:46</td>\n",
       "    </tr>\n",
       "  </tbody>\n",
       "</table>\n",
       "</div>"
      ],
      "text/plain": [
       "    identifier                                         permId                 type             registrator    registrationDate     modifier    modificationDate\n",
       "--  -------------------------------------------------  ---------------------  ---------------  -------------  -------------------  ----------  -------------------\n",
       " 0  /502ICA_PROJECTS/EXAMPLE_PROJECT/SAMPLE_INTERNAL1  20220512144048374-911  SAMPLE_INTERNAL  koki_admin     2022-05-12 14:40:49  koki_admin  2022-05-12 14:46:45\n",
       " 1  /502ICA_PROJECTS/EXAMPLE_PROJECT/SAMPLE_INTERNAL2  20220512144645331-913  SAMPLE_INTERNAL  koki_admin     2022-05-12 14:46:45  koki_admin  2022-05-12 14:46:46"
      ]
     },
     "execution_count": 36,
     "metadata": {},
     "output_type": "execute_result"
    }
   ],
   "source": [
    "get_samples('SAMPLE_INTERNAL')"
   ]
  }
 ],
 "metadata": {
  "kernelspec": {
   "display_name": "Python 3 (ipykernel)",
   "language": "python",
   "name": "python3"
  },
  "language_info": {
   "codemirror_mode": {
    "name": "ipython",
    "version": 3
   },
   "file_extension": ".py",
   "mimetype": "text/x-python",
   "name": "python",
   "nbconvert_exporter": "python",
   "pygments_lexer": "ipython3",
   "version": "3.9.7"
  }
 },
 "nbformat": 4,
 "nbformat_minor": 5
}
