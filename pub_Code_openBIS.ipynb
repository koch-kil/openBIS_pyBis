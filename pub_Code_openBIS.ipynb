{
 "cells": [
  {
   "cell_type": "code",
   "execution_count": 2,
   "id": "ccd186f4",
   "metadata": {},
   "outputs": [],
   "source": [
    "import os\n",
    "import pandas as pd\n",
    "from pybis import Openbis"
   ]
  },
  {
   "cell_type": "markdown",
   "id": "aa647f46",
   "metadata": {},
   "source": [
    "# Read Word Files"
   ]
  },
  {
   "cell_type": "code",
   "execution_count": 44,
   "id": "cb860ecd",
   "metadata": {},
   "outputs": [],
   "source": [
    "def read_word_files_from_folder(folderpath): \n",
    "    \"\"\"\n",
    "    read_word_files_from_folder(string) -> dictionary\n",
    "    Read MS Word Files - only works for doc files! - no docx\"\"\"\n",
    "    import win32com.client\n",
    "    word = win32com.client.Dispatch(\"Word.Application\")\n",
    "    word.visible = False\n",
    "    filelist = os.listdir(folderpath)\n",
    "    titles = dict()\n",
    "    for files in filelist:\n",
    "        if files[-1:][0][0] =='~':\n",
    "            next\n",
    "        if files[-4:] =='.doc':\n",
    "            file  = os.path.join(folderpath, files)\n",
    "            wb = word.Documents.Open(file)\n",
    "            doc = word.ActiveDocument\n",
    "            document = doc.Range().Text\n",
    "            titles[files] = extract_title(document, doc)\n",
    "        else: pass\n",
    "    word.ActiveDocument.Close()\n",
    "    return titles"
   ]
  },
  {
   "cell_type": "code",
   "execution_count": 58,
   "id": "e0527c1f",
   "metadata": {},
   "outputs": [],
   "source": [
    "def extract_title(document, doc):\n",
    "    \"\"\"Use this to specifically extract titles from Files which have the structure Titel: inside them\"\"\"\n",
    "    titlef = (str(document).replace('\\r', ' ').find('Titel:'))\n",
    "    stich = (str(document).replace('\\r', ' ').find('Stichworte:'))\n",
    "    f = str(doc.Range().Text).replace('\\r', ' ')\n",
    "    title = (f[(titlef+6):(stich)])\n",
    "    title = ''.join(c for c in title if c.isprintable()).strip()\n",
    "    return (document, title)"
   ]
  },
  {
   "cell_type": "code",
   "execution_count": 48,
   "id": "9e9049dd",
   "metadata": {},
   "outputs": [],
   "source": [
    "def transform_docx_to_pdf(filepath):\n",
    "    from docx2pdf import convert\n",
    "    return convert(filepath)"
   ]
  },
  {
   "cell_type": "markdown",
   "id": "8d93712c",
   "metadata": {},
   "source": [
    "# Supplier interactions"
   ]
  },
  {
   "cell_type": "code",
   "execution_count": null,
   "id": "38c14f49",
   "metadata": {},
   "outputs": [],
   "source": [
    "def get_suppliers():\n",
    "    \"\"\"\"Get a list of suppliers and their codes\"\"\"\n",
    "    suppliers = o.get_collection('/STOCK_CATALOG/SUPPLIERS/SUPPLIER_COLLECTION')\n",
    "    supdict= dict()\n",
    "    for sups in suppliers.get_samples():\n",
    "        ids = o.get_sample(sups.identifier).permId\n",
    "        codes = o.get_sample(sups.identifier).code\n",
    "        names = o.get_sample(sups.identifier).p('$name')\n",
    "        supdict[names] = ids, codes\n",
    "    return suplist"
   ]
  },
  {
   "cell_type": "code",
   "execution_count": null,
   "id": "2b10cfe8",
   "metadata": {},
   "outputs": [],
   "source": [
    "def new_supplier(CODE, NAME, ADDRESS1, ADDRESS2, PHONE, EMAIL, LANG='English', URL=None):\n",
    "    \"\"\"Create a new supplier object on openBIS\"\"\"\n",
    "    sample = o.new_sample(\n",
    "        type       = 'SUPPLIER',\n",
    "        experiment = '/STOCK_CATALOG/SUPPLIERS/SUPPLIER_COLLECTION',\n",
    "        code = CODE,\n",
    "        props      = {\"$name\": NAME * (not(pd.isna(NAME))*1),\n",
    "                     \"$supplier.company_address_line_1\" : ADDRESS1 * (not(pd.isna(ADDRESS1))*1),\n",
    "                     \"$supplier.company_address_line_2\" : ADDRESS2 * (not(pd.isna(ADDRESS2))*1),\n",
    "                     \"$supplier.company_phone\": PHONE * (not(pd.isna(PHONE))*1),\n",
    "                     \"$supplier.company_email\": EMAIL * (not(pd.isna(EMAIL))*1),\n",
    "                     \"$supplier.company_language\": LANG * (not(pd.isna(LANG))*1),\n",
    "                     \"supplier.url\" : URL}\n",
    "    )\n",
    "    sample.save()"
   ]
  },
  {
   "cell_type": "code",
   "execution_count": null,
   "id": "c0082a3f",
   "metadata": {},
   "outputs": [],
   "source": []
  }
 ],
 "metadata": {
  "kernelspec": {
   "display_name": "Python 3 (ipykernel)",
   "language": "python",
   "name": "python3"
  },
  "language_info": {
   "codemirror_mode": {
    "name": "ipython",
    "version": 3
   },
   "file_extension": ".py",
   "mimetype": "text/x-python",
   "name": "python",
   "nbconvert_exporter": "python",
   "pygments_lexer": "ipython3",
   "version": "3.9.7"
  }
 },
 "nbformat": 4,
 "nbformat_minor": 5
}
